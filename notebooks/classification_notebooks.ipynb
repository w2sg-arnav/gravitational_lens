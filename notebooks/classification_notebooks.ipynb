{
 "cells": [
  {
   "cell_type": "code",
   "execution_count": 40,
   "metadata": {},
   "outputs": [],
   "source": [
    "# Cell 1: Imports\n",
    "import os\n",
    "import numpy as np\n",
    "import matplotlib.pyplot as plt\n",
    "from PIL import Image\n",
    "\n",
    "import torch\n",
    "import torch.nn as nn\n",
    "import torch.optim as optim\n",
    "from torch.utils.data import Dataset, DataLoader, WeightedRandomSampler\n",
    "import torchvision\n",
    "from torchvision import transforms, models\n",
    "from sklearn.metrics import roc_curve, auc, roc_auc_score, confusion_matrix\n",
    "import seaborn as sns\n",
    "from tqdm.notebook import tqdm"
   ]
  },
  {
   "cell_type": "code",
   "execution_count": 41,
   "metadata": {},
   "outputs": [],
   "source": [
    "# Cell 2: Constants and Directory Creation\n",
    "DATA_DIR = \"data/Specific_test_2\"\n",
    "MODEL_SAVE_PATH = \"models/lens_finder_model.pth\"\n",
    "BATCH_SIZE = 32\n",
    "NUM_EPOCHS = 50\n",
    "LEARNING_RATE = 1e-4\n",
    "DEVICE = torch.device(\"cuda\" if torch.cuda.is_available() else \"cpu\")\n",
    "\n",
    "# Create the 'models' directory if it doesn't exist\n",
    "os.makedirs(os.path.dirname(MODEL_SAVE_PATH), exist_ok=True)"
   ]
  },
  {
   "cell_type": "code",
   "execution_count": 42,
   "metadata": {},
   "outputs": [
    {
     "name": "stdout",
     "output_type": "stream",
     "text": [
      "Using device: cuda\n"
     ]
    }
   ],
   "source": [
    "# Cell 3: Device Check\n",
    "print(f\"Using device: {DEVICE}\")"
   ]
  },
  {
   "cell_type": "code",
   "execution_count": 43,
   "metadata": {},
   "outputs": [],
   "source": [
    "# Cell 4: Transformations\n",
    "train_transforms = transforms.Compose([\n",
    "    transforms.Resize((224, 224)),\n",
    "    transforms.RandomHorizontalFlip(),\n",
    "    transforms.RandomRotation(10),\n",
    "    transforms.RandomAffine(degrees=0, translate=(0.05, 0.05), scale=(0.95, 1.05)),\n",
    "    transforms.ToTensor(),\n",
    "    transforms.Normalize([0.485, 0.456, 0.406], [0.229, 0.224, 0.225])\n",
    "])\n",
    "\n",
    "val_transforms = transforms.Compose([\n",
    "    transforms.Resize((224, 224)),\n",
    "    transforms.ToTensor(),\n",
    "    transforms.Normalize([0.485, 0.456, 0.406], [0.229, 0.224, 0.225])\n",
    "])\n",
    "\n",
    "test_transforms = transforms.Compose([\n",
    "    transforms.Resize((224, 224)),\n",
    "    transforms.ToTensor(),\n",
    "    transforms.Normalize([0.485, 0.456, 0.406], [0.229, 0.224, 0.225])\n",
    "])"
   ]
  },
  {
   "cell_type": "code",
   "execution_count": 44,
   "metadata": {},
   "outputs": [
    {
     "name": "stdout",
     "output_type": "stream",
     "text": [
      "Data directory found: /teamspace/studios/this_studio/gravitational_lens/data/Specific_test_2\n"
     ]
    }
   ],
   "source": [
    "import os\n",
    "import numpy as np\n",
    "import torch\n",
    "import torch.nn as nn\n",
    "import torch.optim as optim\n",
    "from torch.utils.data import Dataset, DataLoader\n",
    "from torch.utils.data.sampler import WeightedRandomSampler\n",
    "from torchvision import transforms, models\n",
    "from PIL import Image\n",
    "from tqdm import tqdm\n",
    "from sklearn.metrics import roc_auc_score\n",
    "\n",
    "# Set the correct DATA_DIR path\n",
    "DATA_DIR = \"/teamspace/studios/this_studio/gravitational_lens/data/Specific_test_2\"\n",
    "\n",
    "# Check if directory exists\n",
    "if not os.path.exists(DATA_DIR):\n",
    "    print(f\"ERROR: Data directory '{DATA_DIR}' does not exist. Please check the path.\")\n",
    "    raise ValueError(f\"Data directory not found: {DATA_DIR}\")\n",
    "else:\n",
    "    print(f\"Data directory found: {DATA_DIR}\")\n",
    "\n",
    "# Constants\n",
    "BATCH_SIZE = 32\n",
    "LEARNING_RATE = 0.001\n",
    "NUM_EPOCHS = 20\n",
    "DEVICE = torch.device(\"cuda\" if torch.cuda.is_available() else \"cpu\")\n",
    "MODEL_SAVE_PATH = \"best_lens_classifier.pth\"\n",
    "\n",
    "# Data transformations\n",
    "train_transforms = transforms.Compose([\n",
    "    transforms.Resize((224, 224)),\n",
    "    transforms.RandomHorizontalFlip(),\n",
    "    transforms.RandomRotation(10),\n",
    "    transforms.ToTensor(),\n",
    "])\n",
    "\n",
    "val_transforms = transforms.Compose([\n",
    "    transforms.Resize((224, 224)),\n",
    "    transforms.ToTensor(),\n",
    "])\n",
    "\n",
    "test_transforms = transforms.Compose([\n",
    "    transforms.Resize((224, 224)),\n",
    "    transforms.ToTensor(),\n",
    "])\n",
    "\n",
    "# Dataset Class\n",
    "class LensDataset(Dataset):\n",
    "    \"\"\"\n",
    "    A custom dataset for loading lens and non-lens images.\n",
    "\n",
    "    Args:\n",
    "        class_dir (str): Path to the directory containing images for a single class\n",
    "                         (e.g., data/Specific_test_2/train_nonlenses).\n",
    "        transform (callable, optional): Optional transform to be applied.\n",
    "    \"\"\"\n",
    "    def __init__(self, class_dir, transform=None):\n",
    "        self.class_dir = class_dir\n",
    "        self.transform = transform\n",
    "        self.classes = [\"nonlenses\", \"lenses\"]  # Keep for consistency, error handling\n",
    "        self.class_to_idx = {c: i for i, c in enumerate(self.classes)}\n",
    "        self.samples = self._make_dataset()\n",
    "        self.error_counts = {\"nonlenses\": 0, \"lenses\": 0}  # Initialize for both\n",
    "\n",
    "    def _make_dataset(self):\n",
    "        \"\"\"Creates a list of (image_path, class_index) tuples.\"\"\"\n",
    "        samples = []\n",
    "\n",
    "        print(f\"DEBUG: Attempting to use directory: {self.class_dir}\")\n",
    "\n",
    "        if not os.path.isdir(self.class_dir):\n",
    "            print(f\"Directory not found: {self.class_dir}\")\n",
    "            return []  # Return empty list if directory not found\n",
    "\n",
    "        filenames = [f for f in os.listdir(self.class_dir) if f.endswith(\".npy\")]\n",
    "        if not filenames:\n",
    "            print(f\"Warning: Directory {self.class_dir} is empty or contains no .npy files.\")\n",
    "            return [] # Return empty list if no files\n",
    "\n",
    "        # Determine the class label from the directory name\n",
    "        class_name = os.path.basename(self.class_dir).replace(\"train_\", \"\").replace(\"test_\", \"\")\n",
    "        label = self.class_to_idx.get(class_name) # Get the label, handle errors\n",
    "\n",
    "        if label is None:\n",
    "            print(f\"Warning: Unknown class directory name: {self.class_dir}\")\n",
    "            return []\n",
    "\n",
    "        for filename in filenames:\n",
    "            path = os.path.join(self.class_dir, filename)\n",
    "            item = (path, label)\n",
    "            samples.append(item)\n",
    "\n",
    "        print(f\"Found {len(samples)} samples in {self.class_dir}\")\n",
    "        return samples\n",
    "\n",
    "    def __len__(self):\n",
    "        return len(self.samples)\n",
    "\n",
    "    def __getitem__(self, idx):\n",
    "        img_path, label = self.samples[idx]\n",
    "        try:\n",
    "            image_np = np.load(img_path)\n",
    "\n",
    "            # Normalize *EACH CHANNEL* individually:\n",
    "            image_np = image_np.astype(np.float32)\n",
    "            for i in range(image_np.shape[0]):\n",
    "                channel = image_np[i]\n",
    "                min_val = channel.min()\n",
    "                max_val = channel.max()\n",
    "                if max_val > min_val:\n",
    "                    image_np[i] = (channel - min_val) / (max_val - min_val)\n",
    "                else:\n",
    "                    image_np[i] = 0\n",
    "\n",
    "            image_np = (image_np * 255).astype(np.uint8)\n",
    "            image_pil = Image.fromarray(image_np.transpose(1, 2, 0), mode='RGB')\n",
    "\n",
    "            if self.transform:\n",
    "                image = self.transform(image_pil)\n",
    "            else:\n",
    "                image = transforms.ToTensor()(image_pil)\n",
    "            return image, label\n",
    "\n",
    "        except Exception as e:\n",
    "            print(f\"Error loading {img_path}: {e}\")\n",
    "            # Increment error count based on the class of the image\n",
    "            class_name = os.path.basename(self.class_dir).replace(\"train_\", \"\").replace(\"test_\", \"\")\n",
    "            if class_name in self.error_counts:  # Check if class_name is valid\n",
    "                self.error_counts[class_name] += 1\n",
    "            return torch.zeros((3, 224, 224), dtype=torch.float32), label\n",
    "\n",
    "    def report_errors(self):\n",
    "        print(\"Data loading errors:\")\n",
    "        for cls_name, count in self.error_counts.items():\n",
    "            print(f\"  {cls_name}: {count}\")\n",
    "\n",
    "def create_dataloaders(data_dir, train_transforms, val_transforms, test_transforms, batch_size=32):\n",
    "    \"\"\"\n",
    "    Creates data loaders for training, validation, and test sets with improved error handling.\n",
    "    \"\"\"\n",
    "    # Create Datasets (Train and Test) - Now create for EACH class directory\n",
    "    train_lenses_dir = os.path.join(data_dir, \"train_lenses\")\n",
    "    train_nonlenses_dir = os.path.join(data_dir, \"train_nonlenses\")\n",
    "    test_lenses_dir = os.path.join(data_dir, \"test_lenses\")\n",
    "    test_nonlenses_dir = os.path.join(data_dir, \"test_nonlenses\")\n",
    "    \n",
    "    # Check if directories exist\n",
    "    for dir_path in [train_lenses_dir, train_nonlenses_dir, test_lenses_dir, test_nonlenses_dir]:\n",
    "        if not os.path.exists(dir_path):\n",
    "            print(f\"WARNING: Directory '{dir_path}' does not exist!\")\n",
    "    \n",
    "    train_lenses_dataset = LensDataset(class_dir=train_lenses_dir, transform=train_transforms)\n",
    "    train_nonlenses_dataset = LensDataset(class_dir=train_nonlenses_dir, transform=train_transforms)\n",
    "    test_lenses_dataset = LensDataset(class_dir=test_lenses_dir, transform=test_transforms)\n",
    "    test_nonlenses_dataset = LensDataset(class_dir=test_nonlenses_dir, transform=test_transforms)\n",
    "    \n",
    "    # Check for empty datasets\n",
    "    if len(train_lenses_dataset) == 0:\n",
    "        print(f\"WARNING: No lens samples found in {train_lenses_dir}\")\n",
    "    if len(train_nonlenses_dataset) == 0:\n",
    "        print(f\"WARNING: No non-lens samples found in {train_nonlenses_dir}\")\n",
    "    \n",
    "    # If all datasets are empty, we can't proceed\n",
    "    if (len(train_lenses_dataset) == 0 and len(train_nonlenses_dataset) == 0 and\n",
    "        len(test_lenses_dataset) == 0 and len(test_nonlenses_dataset) == 0):\n",
    "        raise ValueError(f\"No data found in any directories. Please check {data_dir} and subdirectories.\")\n",
    "    \n",
    "    # Combine datasets (handling empty datasets)\n",
    "    train_datasets = []\n",
    "    if len(train_lenses_dataset) > 0:\n",
    "        train_datasets.append(train_lenses_dataset)\n",
    "    if len(train_nonlenses_dataset) > 0:\n",
    "        train_datasets.append(train_nonlenses_dataset)\n",
    "    \n",
    "    if not train_datasets:\n",
    "        raise ValueError(f\"No training data found. Please check {train_lenses_dir} and {train_nonlenses_dir}\")\n",
    "        \n",
    "    train_dataset = torch.utils.data.ConcatDataset(train_datasets)\n",
    "    \n",
    "    # Handle test datasets similarly\n",
    "    test_datasets = []\n",
    "    if len(test_lenses_dataset) > 0:\n",
    "        test_datasets.append(test_lenses_dataset)\n",
    "    if len(test_nonlenses_dataset) > 0:\n",
    "        test_datasets.append(test_nonlenses_dataset)\n",
    "    \n",
    "    if not test_datasets:\n",
    "        print(f\"WARNING: No test data found. Test loader will not be created.\")\n",
    "        test_dataset = None\n",
    "    else:\n",
    "        test_dataset = torch.utils.data.ConcatDataset(test_datasets)\n",
    "\n",
    "    # Split into train and validation sets\n",
    "    if len(train_dataset) == 0:\n",
    "        raise ValueError(\"Cannot create train/val split: training dataset is empty\")\n",
    "    \n",
    "    train_size = int(0.8 * len(train_dataset))\n",
    "    val_size = len(train_dataset) - train_size\n",
    "    \n",
    "    if train_size == 0 or val_size == 0:\n",
    "        raise ValueError(f\"Train/val split resulted in empty dataset: train_size={train_size}, val_size={val_size}\")\n",
    "    \n",
    "    train_dataset, val_dataset = torch.utils.data.random_split(train_dataset, [train_size, val_size])\n",
    "\n",
    "    # --- Debugging Prints ---\n",
    "    print(f\"Length of train_dataset: {len(train_dataset)}\")\n",
    "    print(f\"Length of val_dataset: {len(val_dataset)}\")\n",
    "    print(f\"Length of test_dataset: {0 if test_dataset is None else len(test_dataset)}\")\n",
    "\n",
    "    # Handle label printing safely\n",
    "    if len(train_dataset) > 0:\n",
    "        print(\"First few labels of train_dataset:\", [train_dataset[i][1] for i in range(min(10, len(train_dataset)))])\n",
    "    if len(val_dataset) > 0:\n",
    "        print(\"First few labels of val_dataset:\", [val_dataset[i][1] for i in range(min(10, len(val_dataset)))])\n",
    "    if test_dataset is not None and len(test_dataset) > 0:\n",
    "        print(\"First few labels of test_dataset:\", [test_dataset[i][1] for i in range(min(10, len(test_dataset)))])\n",
    "    # --- End Debugging Prints ---\n",
    "\n",
    "    # --- Handle Class Imbalance (WeightedRandomSampler) ---\n",
    "    class_counts = [0, 0]\n",
    "    for _, label in train_dataset:\n",
    "        class_counts[label] += 1\n",
    "    print(f\"Class counts in training set: {class_counts}\")\n",
    "\n",
    "    if class_counts[0] == 0 or class_counts[1] == 0:\n",
    "        raise ValueError(\n",
    "            \"One or more classes have no samples in the training set after splitting. Check your data and split ratio.\"\n",
    "        )\n",
    "\n",
    "    weights = [1.0 / max(1, count) for count in class_counts]  # Avoid division by zero\n",
    "    sample_weights = [weights[label] for _, label in train_dataset]\n",
    "    sampler = WeightedRandomSampler(weights=sample_weights, num_samples=len(train_dataset), replacement=True)\n",
    "\n",
    "    train_loader = DataLoader(train_dataset, batch_size=batch_size, sampler=sampler, num_workers=4)\n",
    "    val_loader = DataLoader(val_dataset, batch_size=batch_size, shuffle=False, num_workers=4)\n",
    "    \n",
    "    test_loader = None\n",
    "    if test_dataset is not None:\n",
    "        test_loader = DataLoader(test_dataset, batch_size=batch_size, shuffle=False, num_workers=4)\n",
    "\n",
    "    return train_loader, val_loader, test_loader"
   ]
  },
  {
   "cell_type": "code",
   "execution_count": 45,
   "metadata": {},
   "outputs": [
    {
     "name": "stdout",
     "output_type": "stream",
     "text": [
      "Current working directory: /teamspace/studios/this_studio/gravitational_lens/notebooks\n",
      "Contents of DATA_DIR (/teamspace/studios/this_studio/gravitational_lens/data/Specific_test_2):\n",
      "  __MACOSX/: 8 files (first few: ['._test_lenses', '._test_nonlenses', '._train_lenses']...)\n",
      "  test_lenses/: 195 files (first few: ['1.npy', '10.npy', '100.npy']...)\n"
     ]
    },
    {
     "name": "stdout",
     "output_type": "stream",
     "text": [
      "  test_nonlenses/: 19455 files (first few: ['1.npy', '10.npy', '100.npy']...)\n",
      "  train_lenses/: 1730 files (first few: ['1.npy', '10.npy', '100.npy']...)\n",
      "  train_nonlenses/: 28675 files (first few: ['1.npy', '10.npy', '100.npy']...)\n",
      "DEBUG: Attempting to use directory: /teamspace/studios/this_studio/gravitational_lens/data/Specific_test_2/train_lenses\n",
      "Found 1730 samples in /teamspace/studios/this_studio/gravitational_lens/data/Specific_test_2/train_lenses\n",
      "DEBUG: Attempting to use directory: /teamspace/studios/this_studio/gravitational_lens/data/Specific_test_2/train_nonlenses\n",
      "Found 28675 samples in /teamspace/studios/this_studio/gravitational_lens/data/Specific_test_2/train_nonlenses\n",
      "DEBUG: Attempting to use directory: /teamspace/studios/this_studio/gravitational_lens/data/Specific_test_2/test_lenses\n",
      "Found 195 samples in /teamspace/studios/this_studio/gravitational_lens/data/Specific_test_2/test_lenses\n",
      "DEBUG: Attempting to use directory: /teamspace/studios/this_studio/gravitational_lens/data/Specific_test_2/test_nonlenses\n",
      "Found 19455 samples in /teamspace/studios/this_studio/gravitational_lens/data/Specific_test_2/test_nonlenses\n",
      "Length of train_dataset: 24324\n",
      "Length of val_dataset: 6081\n",
      "Length of test_dataset: 19650\n",
      "First few labels of train_dataset: [0, 0, 0, 0, 0, 0, 1, 0, 0, 0]\n",
      "First few labels of val_dataset: [1, 0, 0, 0, 0, 0, 0, 0, 0, 0]\n",
      "First few labels of test_dataset: [1, 1, 1, 1, 1, 1, 1, 1, 1, 1]\n",
      "Class counts in training set: [22958, 1366]\n",
      "Epoch 1/20\n"
     ]
    },
    {
     "name": "stderr",
     "output_type": "stream",
     "text": [
      "                                                           \r"
     ]
    },
    {
     "name": "stdout",
     "output_type": "stream",
     "text": [
      "  Train Loss: 0.3308  Train AUC: 0.9342\n"
     ]
    },
    {
     "name": "stderr",
     "output_type": "stream",
     "text": [
      "Validation: 100%|██████████| 191/191 [00:05<00:00, 35.68it/s]\n"
     ]
    },
    {
     "name": "stdout",
     "output_type": "stream",
     "text": [
      "  Val Loss: 0.1797    Val AUC: 0.9581\n",
      "  Best model saved at epoch 1\n",
      "Epoch 2/20\n"
     ]
    },
    {
     "name": "stderr",
     "output_type": "stream",
     "text": [
      "                                                           \r"
     ]
    },
    {
     "name": "stdout",
     "output_type": "stream",
     "text": [
      "  Train Loss: 0.2781  Train AUC: 0.9525\n"
     ]
    },
    {
     "name": "stderr",
     "output_type": "stream",
     "text": [
      "Validation: 100%|██████████| 191/191 [00:06<00:00, 31.76it/s]\n"
     ]
    },
    {
     "name": "stdout",
     "output_type": "stream",
     "text": [
      "  Val Loss: 0.2087    Val AUC: 0.9586\n",
      "  Best model saved at epoch 2\n",
      "Epoch 3/20\n"
     ]
    },
    {
     "name": "stderr",
     "output_type": "stream",
     "text": [
      "                                                           \r"
     ]
    },
    {
     "name": "stdout",
     "output_type": "stream",
     "text": [
      "  Train Loss: 0.2502  Train AUC: 0.9610\n"
     ]
    },
    {
     "name": "stderr",
     "output_type": "stream",
     "text": [
      "Validation: 100%|██████████| 191/191 [00:06<00:00, 31.82it/s]\n"
     ]
    },
    {
     "name": "stdout",
     "output_type": "stream",
     "text": [
      "  Val Loss: 0.2054    Val AUC: 0.9583\n",
      "Epoch 4/20\n"
     ]
    },
    {
     "name": "stderr",
     "output_type": "stream",
     "text": [
      "                                                           \r"
     ]
    },
    {
     "name": "stdout",
     "output_type": "stream",
     "text": [
      "  Train Loss: 0.2310  Train AUC: 0.9670\n"
     ]
    },
    {
     "name": "stderr",
     "output_type": "stream",
     "text": [
      "Validation: 100%|██████████| 191/191 [00:05<00:00, 37.54it/s]\n"
     ]
    },
    {
     "name": "stdout",
     "output_type": "stream",
     "text": [
      "  Val Loss: 0.1734    Val AUC: 0.9628\n",
      "  Best model saved at epoch 4\n",
      "Epoch 5/20\n"
     ]
    },
    {
     "name": "stderr",
     "output_type": "stream",
     "text": [
      "                                                           \r"
     ]
    },
    {
     "name": "stdout",
     "output_type": "stream",
     "text": [
      "  Train Loss: 0.2218  Train AUC: 0.9689\n"
     ]
    },
    {
     "name": "stderr",
     "output_type": "stream",
     "text": [
      "Validation: 100%|██████████| 191/191 [00:05<00:00, 32.30it/s]\n"
     ]
    },
    {
     "name": "stdout",
     "output_type": "stream",
     "text": [
      "  Val Loss: 0.2023    Val AUC: 0.9621\n",
      "Epoch 6/20\n"
     ]
    },
    {
     "name": "stderr",
     "output_type": "stream",
     "text": [
      "                                                           \r"
     ]
    },
    {
     "name": "stdout",
     "output_type": "stream",
     "text": [
      "  Train Loss: 0.2059  Train AUC: 0.9733\n"
     ]
    },
    {
     "name": "stderr",
     "output_type": "stream",
     "text": [
      "Validation: 100%|██████████| 191/191 [00:06<00:00, 30.91it/s]\n"
     ]
    },
    {
     "name": "stdout",
     "output_type": "stream",
     "text": [
      "  Val Loss: 0.2048    Val AUC: 0.9679\n",
      "  Best model saved at epoch 6\n",
      "Epoch 7/20\n"
     ]
    },
    {
     "name": "stderr",
     "output_type": "stream",
     "text": [
      "                                                           \r"
     ]
    },
    {
     "name": "stdout",
     "output_type": "stream",
     "text": [
      "  Train Loss: 0.1920  Train AUC: 0.9765\n"
     ]
    },
    {
     "name": "stderr",
     "output_type": "stream",
     "text": [
      "Validation: 100%|██████████| 191/191 [00:05<00:00, 34.38it/s]\n"
     ]
    },
    {
     "name": "stdout",
     "output_type": "stream",
     "text": [
      "  Val Loss: 0.2121    Val AUC: 0.9695\n",
      "  Best model saved at epoch 7\n",
      "Epoch 8/20\n"
     ]
    },
    {
     "name": "stderr",
     "output_type": "stream",
     "text": [
      "                                                           \r"
     ]
    },
    {
     "name": "stdout",
     "output_type": "stream",
     "text": [
      "  Train Loss: 0.1871  Train AUC: 0.9769\n"
     ]
    },
    {
     "name": "stderr",
     "output_type": "stream",
     "text": [
      "Validation: 100%|██████████| 191/191 [00:05<00:00, 33.76it/s]\n"
     ]
    },
    {
     "name": "stdout",
     "output_type": "stream",
     "text": [
      "  Val Loss: 0.2103    Val AUC: 0.9693\n",
      "Epoch 9/20\n"
     ]
    },
    {
     "name": "stderr",
     "output_type": "stream",
     "text": [
      "                                                           \r"
     ]
    },
    {
     "name": "stdout",
     "output_type": "stream",
     "text": [
      "  Train Loss: 0.1790  Train AUC: 0.9791\n"
     ]
    },
    {
     "name": "stderr",
     "output_type": "stream",
     "text": [
      "Validation: 100%|██████████| 191/191 [00:05<00:00, 33.69it/s]\n"
     ]
    },
    {
     "name": "stdout",
     "output_type": "stream",
     "text": [
      "  Val Loss: 0.2354    Val AUC: 0.9673\n",
      "Epoch 10/20\n"
     ]
    },
    {
     "name": "stderr",
     "output_type": "stream",
     "text": [
      "                                                           \r"
     ]
    },
    {
     "name": "stdout",
     "output_type": "stream",
     "text": [
      "  Train Loss: 0.1677  Train AUC: 0.9812\n"
     ]
    },
    {
     "name": "stderr",
     "output_type": "stream",
     "text": [
      "Validation: 100%|██████████| 191/191 [00:05<00:00, 37.13it/s]\n"
     ]
    },
    {
     "name": "stdout",
     "output_type": "stream",
     "text": [
      "  Val Loss: 0.1842    Val AUC: 0.9691\n",
      "Epoch 11/20\n"
     ]
    },
    {
     "name": "stderr",
     "output_type": "stream",
     "text": [
      "                                                           \r"
     ]
    },
    {
     "name": "stdout",
     "output_type": "stream",
     "text": [
      "  Train Loss: 0.1631  Train AUC: 0.9825\n"
     ]
    },
    {
     "name": "stderr",
     "output_type": "stream",
     "text": [
      "Validation: 100%|██████████| 191/191 [00:05<00:00, 37.35it/s]\n"
     ]
    },
    {
     "name": "stdout",
     "output_type": "stream",
     "text": [
      "  Val Loss: 0.1777    Val AUC: 0.9648\n",
      "Epoch 12/20\n"
     ]
    },
    {
     "name": "stderr",
     "output_type": "stream",
     "text": [
      "                                                           \r"
     ]
    },
    {
     "name": "stdout",
     "output_type": "stream",
     "text": [
      "  Train Loss: 0.1519  Train AUC: 0.9842\n"
     ]
    },
    {
     "name": "stderr",
     "output_type": "stream",
     "text": [
      "Validation: 100%|██████████| 191/191 [00:05<00:00, 33.44it/s]\n"
     ]
    },
    {
     "name": "stdout",
     "output_type": "stream",
     "text": [
      "  Val Loss: 0.1757    Val AUC: 0.9704\n",
      "  Best model saved at epoch 12\n",
      "Epoch 13/20\n"
     ]
    },
    {
     "name": "stderr",
     "output_type": "stream",
     "text": [
      "                                                           \r"
     ]
    },
    {
     "name": "stdout",
     "output_type": "stream",
     "text": [
      "  Train Loss: 0.1515  Train AUC: 0.9839\n"
     ]
    },
    {
     "name": "stderr",
     "output_type": "stream",
     "text": [
      "Validation: 100%|██████████| 191/191 [00:05<00:00, 33.36it/s]\n"
     ]
    },
    {
     "name": "stdout",
     "output_type": "stream",
     "text": [
      "  Val Loss: 0.1478    Val AUC: 0.9698\n",
      "Epoch 14/20\n"
     ]
    },
    {
     "name": "stderr",
     "output_type": "stream",
     "text": [
      "                                                           \r"
     ]
    },
    {
     "name": "stdout",
     "output_type": "stream",
     "text": [
      "  Train Loss: 0.1482  Train AUC: 0.9852\n"
     ]
    },
    {
     "name": "stderr",
     "output_type": "stream",
     "text": [
      "Validation: 100%|██████████| 191/191 [00:05<00:00, 37.26it/s]\n"
     ]
    },
    {
     "name": "stdout",
     "output_type": "stream",
     "text": [
      "  Val Loss: 0.1546    Val AUC: 0.9679\n",
      "Epoch 15/20\n"
     ]
    },
    {
     "name": "stderr",
     "output_type": "stream",
     "text": [
      "                                                           \r"
     ]
    },
    {
     "name": "stdout",
     "output_type": "stream",
     "text": [
      "  Train Loss: 0.1481  Train AUC: 0.9847\n"
     ]
    },
    {
     "name": "stderr",
     "output_type": "stream",
     "text": [
      "Validation: 100%|██████████| 191/191 [00:05<00:00, 37.43it/s]\n"
     ]
    },
    {
     "name": "stdout",
     "output_type": "stream",
     "text": [
      "  Val Loss: 0.2317    Val AUC: 0.9668\n",
      "Epoch 16/20\n"
     ]
    },
    {
     "name": "stderr",
     "output_type": "stream",
     "text": [
      "                                                           \r"
     ]
    },
    {
     "name": "stdout",
     "output_type": "stream",
     "text": [
      "  Train Loss: 0.1293  Train AUC: 0.9880\n"
     ]
    },
    {
     "name": "stderr",
     "output_type": "stream",
     "text": [
      "Validation: 100%|██████████| 191/191 [00:05<00:00, 37.59it/s]\n"
     ]
    },
    {
     "name": "stdout",
     "output_type": "stream",
     "text": [
      "  Val Loss: 0.2108    Val AUC: 0.9652\n",
      "Epoch 17/20\n"
     ]
    },
    {
     "name": "stderr",
     "output_type": "stream",
     "text": [
      "                                                           \r"
     ]
    },
    {
     "name": "stdout",
     "output_type": "stream",
     "text": [
      "  Train Loss: 0.1342  Train AUC: 0.9869\n"
     ]
    },
    {
     "name": "stderr",
     "output_type": "stream",
     "text": [
      "Validation: 100%|██████████| 191/191 [00:05<00:00, 35.97it/s]\n"
     ]
    },
    {
     "name": "stdout",
     "output_type": "stream",
     "text": [
      "  Val Loss: 0.1712    Val AUC: 0.9683\n",
      "Epoch 18/20\n"
     ]
    },
    {
     "name": "stderr",
     "output_type": "stream",
     "text": [
      "                                                           \r"
     ]
    },
    {
     "name": "stdout",
     "output_type": "stream",
     "text": [
      "  Train Loss: 0.1341  Train AUC: 0.9878\n"
     ]
    },
    {
     "name": "stderr",
     "output_type": "stream",
     "text": [
      "Validation: 100%|██████████| 191/191 [00:05<00:00, 36.26it/s]\n"
     ]
    },
    {
     "name": "stdout",
     "output_type": "stream",
     "text": [
      "  Val Loss: 0.1872    Val AUC: 0.9699\n",
      "Epoch 19/20\n"
     ]
    },
    {
     "name": "stderr",
     "output_type": "stream",
     "text": [
      "                                                           \r"
     ]
    },
    {
     "name": "stdout",
     "output_type": "stream",
     "text": [
      "  Train Loss: 0.1290  Train AUC: 0.9881\n"
     ]
    },
    {
     "name": "stderr",
     "output_type": "stream",
     "text": [
      "Validation: 100%|██████████| 191/191 [00:05<00:00, 37.24it/s]\n"
     ]
    },
    {
     "name": "stdout",
     "output_type": "stream",
     "text": [
      "  Val Loss: 0.1702    Val AUC: 0.9697\n",
      "Epoch 20/20\n"
     ]
    },
    {
     "name": "stderr",
     "output_type": "stream",
     "text": [
      "                                                           \r"
     ]
    },
    {
     "name": "stdout",
     "output_type": "stream",
     "text": [
      "  Train Loss: 0.1258  Train AUC: 0.9888\n"
     ]
    },
    {
     "name": "stderr",
     "output_type": "stream",
     "text": [
      "Validation: 100%|██████████| 191/191 [00:05<00:00, 37.88it/s]\n"
     ]
    },
    {
     "name": "stdout",
     "output_type": "stream",
     "text": [
      "  Val Loss: 0.1937    Val AUC: 0.9692\n",
      "Training completed successfully!\n",
      "\n",
      "Evaluating on test set...\n"
     ]
    },
    {
     "name": "stderr",
     "output_type": "stream",
     "text": [
      "Testing: 100%|██████████| 615/615 [00:13<00:00, 44.13it/s]\n"
     ]
    },
    {
     "name": "stdout",
     "output_type": "stream",
     "text": [
      "Test AUC: 0.9578\n"
     ]
    }
   ],
   "source": [
    "class SimpleCNN(nn.Module):\n",
    "    def __init__(self):\n",
    "        super(SimpleCNN, self).__init__()\n",
    "        self.model = nn.Sequential(\n",
    "            nn.Conv2d(3, 16, kernel_size=3, padding=1),\n",
    "            nn.ReLU(),\n",
    "            nn.MaxPool2d(2, 2),\n",
    "            nn.Conv2d(16, 32, kernel_size=3, padding=1),\n",
    "            nn.ReLU(),\n",
    "            nn.MaxPool2d(2, 2),\n",
    "            nn.Flatten(),\n",
    "            nn.Linear(32 * 56 * 56, 128),  # 224 / 2 / 2 = 56\n",
    "            nn.ReLU(),\n",
    "            nn.Dropout(0.5),\n",
    "            nn.Linear(128, 1)\n",
    "        )\n",
    "\n",
    "    def forward(self, x):\n",
    "        return self.model(x)\n",
    "\n",
    "# Option 2: ResNet18 (pre-trained) - Commented out but available if needed\n",
    "\"\"\"\n",
    "class ResNet18(nn.Module):\n",
    "    def __init__(self):\n",
    "        super(ResNet18, self).__init__()\n",
    "        self.model = models.resnet18(pretrained=True)\n",
    "        num_ftrs = self.model.fc.in_features\n",
    "        self.model.fc = nn.Linear(num_ftrs, 1)  # Binary classification\n",
    "\n",
    "    def forward(self, x):\n",
    "        return self.model(x)\n",
    "\"\"\"\n",
    "\n",
    "# --- Training Loop ---\n",
    "def train_model(model, criterion, optimizer, scheduler, train_loader, val_loader, num_epochs, device):\n",
    "    \"\"\"Trains the model and saves the best weights based on validation AUC.\"\"\"\n",
    "    best_val_auc = 0.0\n",
    "    train_losses = []\n",
    "    val_losses = []\n",
    "    train_auc_scores = []\n",
    "    val_auc_scores = []\n",
    "\n",
    "    for epoch in range(num_epochs):\n",
    "        print(f'Epoch {epoch+1}/{num_epochs}')\n",
    "\n",
    "        # --- Training Phase ---\n",
    "        model.train()\n",
    "        running_loss = 0.0\n",
    "        all_labels = []\n",
    "        all_preds = []\n",
    "\n",
    "        for inputs, labels in tqdm(train_loader, desc=\"Training\", leave=False):\n",
    "            inputs = inputs.to(device)\n",
    "            labels = labels.to(device).float()\n",
    "            labels = labels.unsqueeze(1)\n",
    "\n",
    "            optimizer.zero_grad()\n",
    "            outputs = model(inputs)\n",
    "            loss = criterion(outputs, labels)\n",
    "            loss.backward()\n",
    "            optimizer.step()\n",
    "\n",
    "            running_loss += loss.item() * inputs.size(0)\n",
    "            all_labels.extend(labels.cpu().numpy())\n",
    "            preds = torch.sigmoid(outputs).detach().cpu().numpy()  # Sigmoid for AUC\n",
    "            all_preds.extend(preds)\n",
    "\n",
    "        epoch_loss = running_loss / len(train_loader.dataset)\n",
    "        train_auc = roc_auc_score(all_labels, all_preds)\n",
    "        print(f'  Train Loss: {epoch_loss:.4f}  Train AUC: {train_auc:.4f}')\n",
    "        train_losses.append(epoch_loss)\n",
    "        train_auc_scores.append(train_auc)\n",
    "\n",
    "        # --- Validation Phase ---\n",
    "        model.eval()\n",
    "        running_loss = 0.0\n",
    "        all_labels = []\n",
    "        all_preds = []\n",
    "        with torch.no_grad():\n",
    "            for inputs, labels in tqdm(val_loader, desc=\"Validation\"):\n",
    "                inputs = inputs.to(device)\n",
    "                labels = labels.to(device).float()\n",
    "                labels = labels.unsqueeze(1)\n",
    "\n",
    "                outputs = model(inputs)\n",
    "                loss = criterion(outputs, labels)\n",
    "\n",
    "                running_loss += loss.item() * inputs.size(0)\n",
    "                all_labels.extend(labels.cpu().numpy())\n",
    "                preds = torch.sigmoid(outputs).detach().cpu().numpy()  # Sigmoid for AUC\n",
    "                all_preds.extend(preds)\n",
    "\n",
    "        epoch_loss = running_loss / len(val_loader.dataset)\n",
    "        val_auc = roc_auc_score(all_labels, all_preds)\n",
    "        print(f'  Val Loss: {epoch_loss:.4f}    Val AUC: {val_auc:.4f}')\n",
    "        val_losses.append(epoch_loss)\n",
    "        val_auc_scores.append(val_auc)\n",
    "\n",
    "        scheduler.step(epoch_loss)\n",
    "\n",
    "        # Save best model\n",
    "        if val_auc > best_val_auc:\n",
    "            best_val_auc = val_auc\n",
    "            torch.save(model.state_dict(), MODEL_SAVE_PATH)\n",
    "            print(f'  Best model saved at epoch {epoch+1}')\n",
    "\n",
    "    return train_losses, val_losses, train_auc_scores, val_auc_scores\n",
    "\n",
    "# --- Main Execution ---\n",
    "try:\n",
    "    # Print current working directory for debugging\n",
    "    print(f\"Current working directory: {os.getcwd()}\")\n",
    "    \n",
    "    # List data directory contents for debugging\n",
    "    print(f\"Contents of DATA_DIR ({DATA_DIR}):\")\n",
    "    if os.path.exists(DATA_DIR):\n",
    "        for item in os.listdir(DATA_DIR):\n",
    "            item_path = os.path.join(DATA_DIR, item)\n",
    "            if os.path.isdir(item_path):\n",
    "                files = os.listdir(item_path)\n",
    "                print(f\"  {item}/: {len(files)} files\" + (f\" (first few: {files[:3]}...)\" if files else \"\"))\n",
    "            else:\n",
    "                print(f\"  {item}\")\n",
    "    else:\n",
    "        print(\"  Directory not found\")\n",
    "    \n",
    "    # Create data loaders\n",
    "    train_loader, val_loader, test_loader = create_dataloaders(\n",
    "        DATA_DIR, train_transforms, val_transforms, test_transforms, BATCH_SIZE\n",
    "    )\n",
    "    \n",
    "    # Initialize model, loss, optimizer\n",
    "    model = SimpleCNN().to(DEVICE)\n",
    "    criterion = nn.BCEWithLogitsLoss()\n",
    "    optimizer = optim.Adam(model.parameters(), lr=LEARNING_RATE)\n",
    "    scheduler = optim.lr_scheduler.ReduceLROnPlateau(optimizer, 'min')\n",
    "    \n",
    "    # Train model\n",
    "    train_losses, val_losses, train_auc_scores, val_auc_scores = train_model(\n",
    "        model, criterion, optimizer, scheduler, train_loader, val_loader, NUM_EPOCHS, DEVICE\n",
    "    )\n",
    "    \n",
    "    print(\"Training completed successfully!\")\n",
    "    \n",
    "    # Test the model if test data is available\n",
    "    if test_loader:\n",
    "        print(\"\\nEvaluating on test set...\")\n",
    "        model.load_state_dict(torch.load(MODEL_SAVE_PATH))\n",
    "        model.eval()\n",
    "        all_labels = []\n",
    "        all_preds = []\n",
    "        with torch.no_grad():\n",
    "            for inputs, labels in tqdm(test_loader, desc=\"Testing\"):\n",
    "                inputs = inputs.to(DEVICE)\n",
    "                labels = labels.to(DEVICE).float()\n",
    "                labels = labels.unsqueeze(1)\n",
    "                \n",
    "                outputs = model(inputs)\n",
    "                preds = torch.sigmoid(outputs).detach().cpu().numpy()\n",
    "                \n",
    "                all_labels.extend(labels.cpu().numpy())\n",
    "                all_preds.extend(preds)\n",
    "        \n",
    "        test_auc = roc_auc_score(all_labels, all_preds)\n",
    "        print(f\"Test AUC: {test_auc:.4f}\")\n",
    "    else:\n",
    "        print(\"\\nNo test data available for evaluation.\")\n",
    "\n",
    "except Exception as e:\n",
    "    import traceback\n",
    "    print(f\"Error occurred: {str(e)}\")\n",
    "    print(traceback.format_exc())"
   ]
  },
  {
   "cell_type": "code",
   "execution_count": 46,
   "metadata": {},
   "outputs": [],
   "source": [
    "# Cell 7: Plot Training History\n",
    "def plot_training_history(train_losses, val_losses, train_auc, val_auc):\n",
    "    \"\"\"Plots the training and validation loss and AUC over epochs.\"\"\"\n",
    "    epochs = range(1, len(train_losses) + 1)\n",
    "\n",
    "    plt.figure(figsize=(12, 5))\n",
    "\n",
    "    plt.subplot(1, 2, 1)\n",
    "    plt.plot(epochs, train_losses, 'b-', label='Training Loss')\n",
    "    plt.plot(epochs, val_losses, 'r-', label='Validation Loss')\n",
    "    plt.title('Training and Validation Loss')\n",
    "    plt.xlabel('Epochs')\n",
    "    plt.ylabel('Loss')\n",
    "    plt.legend()\n",
    "\n",
    "    plt.subplot(1, 2, 2)\n",
    "    plt.plot(epochs, train_auc, 'b-', label='Training AUC')\n",
    "    plt.plot(epochs, val_auc, 'r-', label='Validation AUC')\n",
    "    plt.title('Training and Validation AUC')\n",
    "    plt.xlabel('Epochs')\n",
    "    plt.ylabel('AUC')\n",
    "    plt.legend()\n",
    "\n",
    "    plt.tight_layout()\n",
    "    plt.show()"
   ]
  },
  {
   "cell_type": "code",
   "execution_count": 47,
   "metadata": {},
   "outputs": [],
   "source": [
    "# Cell 8: Plotting Utility Functions (ROC Curve and Confusion Matrix)\n",
    "def plot_roc_curve(labels, probabilities, num_classes):\n",
    "    \"\"\"Plots the ROC curve.\"\"\"\n",
    "    if num_classes > 1:  # Multiclass (not used in this binary case)\n",
    "        fpr = dict()\n",
    "        tpr = dict()\n",
    "        roc_auc = dict()\n",
    "        for i in range(num_classes):\n",
    "            class_labels = [1 if label == i else 0 for label in labels]\n",
    "            fpr[i], tpr[i], _ = roc_curve(class_labels, [prob[i] for prob in probabilities])\n",
    "            roc_auc[i] = auc(fpr[i], tpr[i])\n",
    "        plt.figure(figsize=(8, 6))\n",
    "        for i in range(num_classes):\n",
    "            plt.plot(fpr[i], tpr[i], label=f'Class {i} (AUC = {roc_auc[i]:.2f})')\n",
    "    else:  # Binary case\n",
    "        fpr, tpr, _ = roc_curve(labels, probabilities)\n",
    "        roc_auc = auc(fpr, tpr)\n",
    "        plt.figure(figsize=(8, 6))\n",
    "        plt.plot(fpr, tpr, label=f'ROC curve (AUC = {roc_auc:.2f})')\n",
    "\n",
    "    plt.plot([0, 1], [0, 1], 'k--')\n",
    "    plt.xlim([0.0, 1.0])\n",
    "    plt.ylim([0.0, 1.05])\n",
    "    plt.xlabel('False Positive Rate')\n",
    "    plt.ylabel('True Positive Rate')\n",
    "    plt.title('Receiver Operating Characteristic (ROC) Curve')\n",
    "    plt.legend(loc=\"lower right\")\n",
    "    plt.show()\n",
    "\n",
    "\n",
    "def plot_confusion_matrix(labels, probabilities, classes):\n",
    "    \"\"\"Plots the confusion matrix.\"\"\"\n",
    "    preds = np.round(probabilities).astype(int)  # Round for binary classification\n",
    "    cm = confusion_matrix(labels, preds)\n",
    "    plt.figure(figsize=(8, 6))\n",
    "    sns.heatmap(cm, annot=True, fmt=\"d\", cmap=\"Blues\", xticklabels=classes, yticklabels=classes)\n",
    "    plt.title(\"Confusion Matrix\")\n",
    "    plt.xlabel(\"Predicted Label\")\n",
    "    plt.ylabel(\"True Label\")\n",
    "    plt.show()"
   ]
  },
  {
   "cell_type": "code",
   "execution_count": 48,
   "metadata": {},
   "outputs": [
    {
     "data": {
      "image/png": "[encoded data removed]",
      "text/plain": [
       "<Figure size 1200x500 with 2 Axes>"
      ]
     },
     "metadata": {},
     "output_type": "display_data"
    }
   ],
   "source": [
    "# Cell 9: Plot Training Results\n",
    "plot_training_history(train_losses, val_losses, train_auc_scores, val_auc_scores)"
   ]
  },
  {
   "cell_type": "code",
   "execution_count": 49,
   "metadata": {},
   "outputs": [
    {
     "name": "stderr",
     "output_type": "stream",
     "text": [
      "Evaluating: 100%|██████████| 615/615 [00:15<00:00, 39.18it/s]\n"
     ]
    },
    {
     "name": "stdout",
     "output_type": "stream",
     "text": [
      "Test AUC: 0.9578\n"
     ]
    },
    {
     "data": {
      "image/png": "[encoded data removed]",
      "text/plain": [
       "<Figure size 800x600 with 1 Axes>"
      ]
     },
     "metadata": {},
     "output_type": "display_data"
    },
    {
     "data": {
      "image/png": "[encoded data removed]",
      "text/plain": [
       "<Figure size 800x600 with 2 Axes>"
      ]
     },
     "metadata": {},
     "output_type": "display_data"
    }
   ],
   "source": [
    "# Cell 10: Load Best Model and Evaluate on Test Set\n",
    "model.load_state_dict(torch.load(MODEL_SAVE_PATH))\n",
    "model.eval()\n",
    "\n",
    "def evaluate_model(model, data_loader, device):\n",
    "    \"\"\"Evaluates the model on the given data loader.\"\"\"\n",
    "    all_labels = []\n",
    "    all_probs = []\n",
    "\n",
    "    with torch.no_grad():\n",
    "        for inputs, labels in tqdm(data_loader, desc=\"Evaluating\"):\n",
    "            inputs = inputs.to(device)\n",
    "            labels = labels.to(device).float()\n",
    "            labels = labels.unsqueeze(1)\n",
    "\n",
    "            outputs = model(inputs)\n",
    "            probs = torch.sigmoid(outputs).cpu().numpy()  # Sigmoid for probabilities\n",
    "\n",
    "            all_labels.extend(labels.cpu().numpy())\n",
    "            all_probs.extend(probs)\n",
    "\n",
    "    return all_labels, all_probs\n",
    "\n",
    "test_labels, test_probs = evaluate_model(model, test_loader, DEVICE)\n",
    "\n",
    "if len(test_labels) > 0:\n",
    "    test_auc = roc_auc_score(test_labels, test_probs)\n",
    "    print(f\"Test AUC: {test_auc:.4f}\")\n",
    "\n",
    "    plot_roc_curve(test_labels, test_probs, num_classes=1)\n",
    "    plot_confusion_matrix(\n",
    "        test_labels, test_probs, classes=[\"nonlenses\", \"lenses\"]\n",
    "    )\n",
    "else:\n",
    "    print(\"Test AUC: N/A (empty test set)\")"
   ]
  }
 ],
 "metadata": {
  "language_info": {
   "name": "python"
  }
 },
 "nbformat": 4,
 "nbformat_minor": 2
}
