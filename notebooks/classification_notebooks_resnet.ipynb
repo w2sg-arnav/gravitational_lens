{
 "cells": [
  {
   "cell_type": "code",
   "execution_count": 2,
   "metadata": {},
   "outputs": [],
   "source": [
    "# Cell 1: Imports\n",
    "import os\n",
    "import numpy as np\n",
    "import matplotlib.pyplot as plt\n",
    "from PIL import Image\n",
    "\n",
    "import torch\n",
    "import torch.nn as nn\n",
    "import torch.optim as optim\n",
    "from torch.utils.data import Dataset, DataLoader, WeightedRandomSampler\n",
    "import torchvision\n",
    "from torchvision import transforms, models\n",
    "from sklearn.metrics import roc_curve, auc, roc_auc_score, confusion_matrix\n",
    "import seaborn as sns\n",
    "from tqdm.notebook import tqdm"
   ]
  },
  {
   "cell_type": "code",
   "execution_count": 3,
   "metadata": {},
   "outputs": [],
   "source": [
    "# Cell 2: Constants and Directory Creation\n",
    "DATA_DIR = \"data/Specific_test_2\"\n",
    "MODEL_SAVE_PATH = \"models/lens_finder_model.pth\"\n",
    "BATCH_SIZE = 32\n",
    "NUM_EPOCHS = 50\n",
    "LEARNING_RATE = 1e-4\n",
    "DEVICE = torch.device(\"cuda\" if torch.cuda.is_available() else \"cpu\")\n",
    "\n",
    "# Create the 'models' directory if it doesn't exist\n",
    "os.makedirs(os.path.dirname(MODEL_SAVE_PATH), exist_ok=True)"
   ]
  },
  {
   "cell_type": "code",
   "execution_count": 4,
   "metadata": {},
   "outputs": [
    {
     "name": "stdout",
     "output_type": "stream",
     "text": [
      "Using device: cuda\n"
     ]
    }
   ],
   "source": [
    "print(f\"Using device: {DEVICE}\")"
   ]
  },
  {
   "cell_type": "code",
   "execution_count": 5,
   "metadata": {},
   "outputs": [],
   "source": [
    "train_transforms = transforms.Compose([\n",
    "    transforms.Resize((224, 224)),\n",
    "    transforms.RandomHorizontalFlip(),\n",
    "    transforms.RandomRotation(10),\n",
    "    transforms.RandomAffine(degrees=0, translate=(0.05, 0.05), scale=(0.95, 1.05)),\n",
    "    transforms.ToTensor(),\n",
    "    transforms.Normalize([0.485, 0.456, 0.406], [0.229, 0.224, 0.225])\n",
    "])\n",
    "\n",
    "val_transforms = transforms.Compose([\n",
    "    transforms.Resize((224, 224)),\n",
    "    transforms.ToTensor(),\n",
    "    transforms.Normalize([0.485, 0.456, 0.406], [0.229, 0.224, 0.225])\n",
    "])\n",
    "\n",
    "test_transforms = transforms.Compose([\n",
    "    transforms.Resize((224, 224)),\n",
    "    transforms.ToTensor(),\n",
    "    transforms.Normalize([0.485, 0.456, 0.406], [0.229, 0.224, 0.225])\n",
    "])"
   ]
  },
  {
   "cell_type": "code",
   "execution_count": 6,
   "metadata": {},
   "outputs": [],
   "source": [
    "# Cell 5: Dataset Class and Data Loaders\n",
    "import os\n",
    "import numpy as np\n",
    "import torch\n",
    "from torch.utils.data import Dataset, DataLoader\n",
    "from torch.utils.data.sampler import WeightedRandomSampler\n",
    "from PIL import Image\n",
    "from torchvision import transforms\n",
    "\n",
    "class LensDataset(Dataset):\n",
    "    \"\"\"\n",
    "    A custom dataset for loading lens and non-lens images.\n",
    "\n",
    "    Args:\n",
    "        class_dir (str): Path to the directory containing images for a single class\n",
    "                         (e.g., /home/w2sg-arnav/gravitational_lens/data/Specific_test_2/train_nonlenses).\n",
    "        transform (callable, optional): Optional transform to be applied.\n",
    "    \"\"\"\n",
    "    def __init__(self, class_dir, transform=None):\n",
    "        self.class_dir = class_dir\n",
    "        self.transform = transform\n",
    "        self.classes = [\"nonlenses\", \"lenses\"]  # Keep for consistency, error handling\n",
    "        self.class_to_idx = {c: i for i, c in enumerate(self.classes)}\n",
    "        self.samples = self._make_dataset()\n",
    "        self.error_counts = {\"nonlenses\": 0, \"lenses\": 0}  # Initialize for both\n",
    "\n",
    "    def _make_dataset(self):\n",
    "        \"\"\"Creates a list of (image_path, class_index) tuples.\"\"\"\n",
    "        samples = []\n",
    "\n",
    "        print(f\"DEBUG: Attempting to use directory: {self.class_dir}\")\n",
    "\n",
    "        if not os.path.isdir(self.class_dir):\n",
    "            print(f\"Directory not found: {self.class_dir}\")\n",
    "            return []  # Return empty list if directory not found\n",
    "\n",
    "        filenames = [f for f in os.listdir(self.class_dir) if f.endswith(\".npy\")]\n",
    "        if not filenames:\n",
    "            print(f\"Warning: Directory {self.class_dir} is empty or contains no .npy files.\")\n",
    "            return [] # Return empty list if no files\n",
    "\n",
    "        # Determine the class label from the directory name\n",
    "        class_name = os.path.basename(self.class_dir).replace(\"train_\", \"\").replace(\"test_\", \"\")\n",
    "        label = self.class_to_idx.get(class_name) # Get the label, handle errors\n",
    "\n",
    "        if label is None:\n",
    "            print(f\"Warning: Unknown class directory name: {self.class_dir}\")\n",
    "            return []\n",
    "\n",
    "        for filename in filenames:\n",
    "            path = os.path.join(self.class_dir, filename)\n",
    "            item = (path, label)\n",
    "            samples.append(item)\n",
    "        return samples\n",
    "\n",
    "    def __len__(self):\n",
    "        return len(self.samples)\n",
    "\n",
    "    def __getitem__(self, idx):\n",
    "        img_path, label = self.samples[idx]\n",
    "        try:\n",
    "            image_np = np.load(img_path)\n",
    "\n",
    "            # Normalize *EACH CHANNEL* individually:\n",
    "            image_np = image_np.astype(np.float32)\n",
    "            for i in range(image_np.shape[0]):\n",
    "                channel = image_np[i]\n",
    "                min_val = channel.min()\n",
    "                max_val = channel.max()\n",
    "                if max_val > min_val:\n",
    "                    image_np[i] = (channel - min_val) / (max_val - min_val)\n",
    "                else:\n",
    "                    image_np[i] = 0\n",
    "\n",
    "            image_np = (image_np * 255).astype(np.uint8)\n",
    "            image_pil = Image.fromarray(image_np.transpose(1, 2, 0), mode='RGB')\n",
    "\n",
    "            if self.transform:\n",
    "                image = self.transform(image_pil)\n",
    "            else:\n",
    "                image = transforms.ToTensor()(image_pil)\n",
    "            return image, label\n",
    "\n",
    "        except Exception as e:\n",
    "            print(f\"Error loading {img_path}: {e}\")\n",
    "            # Increment error count based on the class of the image\n",
    "            class_name = os.path.basename(self.class_dir).replace(\"train_\", \"\").replace(\"test_\", \"\")\n",
    "            if class_name in self.error_counts:  # Check if class_name is valid\n",
    "                self.error_counts[class_name] += 1\n",
    "            return torch.zeros((3, 224, 224), dtype=torch.float32), label\n",
    "\n",
    "    def report_errors(self):\n",
    "        print(\"Data loading errors:\")\n",
    "        for cls_name, count in self.error_counts.items():\n",
    "            print(f\"  {cls_name}: {count}\")\n",
    "\n",
    "\n",
    "def create_dataloaders(data_dir, train_transforms, val_transforms, test_transforms, batch_size=32):\n",
    "    \"\"\"\n",
    "    Creates data loaders for training, validation, and test sets.\n",
    "\n",
    "    Args:\n",
    "        data_dir (str): Path to the main data directory (e.g., /home/w2sg-arnav/gravitational_lens/data/Specific_test_2).\n",
    "        train_transforms (callable): Transformations for the training set.\n",
    "        val_transforms (callable): Transformations for the validation set.\n",
    "        test_transforms (callable): Transformations for the test set.\n",
    "        batch_size (int): Batch size.\n",
    "\n",
    "    Returns:\n",
    "        tuple: (train_loader, val_loader, test_loader)\n",
    "    \"\"\"\n",
    "    # Create Datasets (Train and Test) - Now create for EACH class directory, directly under data_dir\n",
    "    train_lenses_dataset = LensDataset(class_dir=os.path.join(data_dir, \"train_lenses\"), transform=train_transforms)\n",
    "    train_nonlenses_dataset = LensDataset(class_dir=os.path.join(data_dir, \"train_nonlenses\"), transform=train_transforms)\n",
    "    test_lenses_dataset = LensDataset(class_dir=os.path.join(data_dir, \"test_lenses\"), transform=test_transforms)\n",
    "    test_nonlenses_dataset = LensDataset(class_dir=os.path.join(data_dir, \"test_nonlenses\"), transform=test_transforms)\n",
    "\n",
    "    # Combine datasets\n",
    "    train_dataset = torch.utils.data.ConcatDataset([train_lenses_dataset, train_nonlenses_dataset])\n",
    "    test_dataset = torch.utils.data.ConcatDataset([test_lenses_dataset, test_nonlenses_dataset])\n",
    "\n",
    "    # Split into train and validation sets\n",
    "    train_size = int(0.8 * len(train_dataset))\n",
    "    val_size = len(train_dataset) - train_size\n",
    "    train_dataset, val_dataset = torch.utils.data.random_split(train_dataset, [train_size, val_size])\n",
    "\n",
    "    # --- Debugging Prints ---\n",
    "    print(f\"Length of train_dataset: {len(train_dataset)}\")\n",
    "    print(f\"Length of val_dataset: {len(val_dataset)}\")\n",
    "    print(f\"Length of test_dataset: {0 if test_dataset is None else len(test_dataset)}\")\n",
    "\n",
    "    print(\"First 50 labels of train_dataset:\", [train_dataset[i][1] for i in range(min(50, len(train_dataset)))])\n",
    "    print(\"First 50 labels of val_dataset:\", [val_dataset[i][1] for i in range(min(50, len(val_dataset)))])\n",
    "    print(\"First 50 labels of test_dataset:\", [test_dataset[i][1] for i in range(min(50,len(test_dataset)))])\n",
    "    # --- End Debugging Prints ---\n",
    "\n",
    "    # --- Handle Class Imbalance (WeightedRandomSampler) ---\n",
    "    class_counts = [0, 0]\n",
    "    for _, label in train_dataset:\n",
    "        class_counts[label] += 1\n",
    "    print(f\"Class counts in training set: {class_counts}\")\n",
    "\n",
    "    if class_counts[0] == 0 or class_counts[1] == 0:\n",
    "        raise ValueError(\n",
    "            \"One or more classes have no samples in the *training* set after splitting. Check your data and split ratio.\"\n",
    "        )\n",
    "\n",
    "    weights = [1.0 / max(1, count) for count in class_counts]  # Avoid division by zero\n",
    "    sample_weights = [weights[label] for _, label in train_dataset]\n",
    "    sampler = WeightedRandomSampler(weights=sample_weights, num_samples=len(train_dataset), replacement=True)\n",
    "\n",
    "    train_loader = DataLoader(train_dataset, batch_size=batch_size, sampler=sampler, num_workers=4)\n",
    "    val_loader = DataLoader(val_dataset, batch_size=batch_size, shuffle=False, num_workers=4)\n",
    "    test_loader = None\n",
    "    if test_dataset is not None:\n",
    "        test_loader = DataLoader(test_dataset, batch_size=batch_size, shuffle=False, num_workers=4)\n",
    "\n",
    "    return train_loader, val_loader, test_loader"
   ]
  },
  {
   "cell_type": "code",
   "execution_count": 9,
   "metadata": {},
   "outputs": [
    {
     "name": "stdout",
     "output_type": "stream",
     "text": [
      "DEBUG: Attempting to use directory: /home/w2sg-arnav/gravitational_lens/data/Specific_test_2/train_lenses\n",
      "DEBUG: Attempting to use directory: /home/w2sg-arnav/gravitational_lens/data/Specific_test_2/train_nonlenses\n",
      "DEBUG: Attempting to use directory: /home/w2sg-arnav/gravitational_lens/data/Specific_test_2/test_lenses\n",
      "DEBUG: Attempting to use directory: /home/w2sg-arnav/gravitational_lens/data/Specific_test_2/test_nonlenses\n",
      "Length of train_dataset: 24324\n",
      "Length of val_dataset: 6081\n",
      "Length of test_dataset: 19650\n",
      "First 50 labels of train_dataset: [0, 0, 0, 0, 0, 0, 0, 0, 0, 0, 0, 0, 0, 0, 0, 0, 0, 0, 0, 1, 0, 0, 0, 0, 0, 0, 0, 0, 0, 0, 0, 0, 0, 0, 0, 0, 0, 0, 0, 0, 0, 0, 0, 0, 0, 0, 0, 0, 0, 0]\n",
      "First 50 labels of val_dataset: [0, 0, 0, 0, 0, 0, 0, 0, 0, 0, 0, 0, 0, 0, 0, 0, 0, 0, 0, 0, 0, 0, 0, 0, 0, 0, 0, 0, 0, 0, 0, 0, 0, 0, 0, 0, 0, 0, 0, 0, 1, 0, 0, 0, 0, 0, 0, 0, 0, 0]\n",
      "First 50 labels of test_dataset: [1, 1, 1, 1, 1, 1, 1, 1, 1, 1, 1, 1, 1, 1, 1, 1, 1, 1, 1, 1, 1, 1, 1, 1, 1, 1, 1, 1, 1, 1, 1, 1, 1, 1, 1, 1, 1, 1, 1, 1, 1, 1, 1, 1, 1, 1, 1, 1, 1, 1]\n",
      "Class counts in training set: [22940, 1384]\n"
     ]
    },
    {
     "name": "stderr",
     "output_type": "stream",
     "text": [
      "/home/w2sg-arnav/.local/lib/python3.12/site-packages/torchvision/models/_utils.py:208: UserWarning: The parameter 'pretrained' is deprecated since 0.13 and may be removed in the future, please use 'weights' instead.\n",
      "  warnings.warn(\n",
      "/home/w2sg-arnav/.local/lib/python3.12/site-packages/torchvision/models/_utils.py:223: UserWarning: Arguments other than a weight enum or `None` for 'weights' are deprecated since 0.13 and may be removed in the future. The current behavior is equivalent to passing `weights=ResNet18_Weights.IMAGENET1K_V1`. You can also use `weights=ResNet18_Weights.DEFAULT` to get the most up-to-date weights.\n",
      "  warnings.warn(msg)\n"
     ]
    },
    {
     "name": "stdout",
     "output_type": "stream",
     "text": [
      "Epoch 1/20\n"
     ]
    },
    {
     "data": {
      "application/vnd.jupyter.widget-view+json": {
       "model_id": "c61f0f5e782349e4b295a822f3b888da",
       "version_major": 2,
       "version_minor": 0
      },
      "text/plain": [
       "Training:   0%|          | 0/761 [00:00<?, ?it/s]"
      ]
     },
     "metadata": {},
     "output_type": "display_data"
    },
    {
     "name": "stdout",
     "output_type": "stream",
     "text": [
      "  Train Loss: 0.2247  Train AUC: 0.9685\n"
     ]
    },
    {
     "data": {
      "application/vnd.jupyter.widget-view+json": {
       "model_id": "ad145307c0b24cb3b386cbf12381fb0c",
       "version_major": 2,
       "version_minor": 0
      },
      "text/plain": [
       "Validation:   0%|          | 0/191 [00:00<?, ?it/s]"
      ]
     },
     "metadata": {},
     "output_type": "display_data"
    },
    {
     "name": "stdout",
     "output_type": "stream",
     "text": [
      "  Val Loss: 0.4206    Val AUC: 0.9803\n",
      "  Best model saved at epoch 1\n",
      "Epoch 2/20\n"
     ]
    },
    {
     "data": {
      "application/vnd.jupyter.widget-view+json": {
       "model_id": "3fb0f2ff12724f86b4f0f8f3cb7492d8",
       "version_major": 2,
       "version_minor": 0
      },
      "text/plain": [
       "Training:   0%|          | 0/761 [00:00<?, ?it/s]"
      ]
     },
     "metadata": {},
     "output_type": "display_data"
    },
    {
     "name": "stdout",
     "output_type": "stream",
     "text": [
      "  Train Loss: 0.1687  Train AUC: 0.9816\n"
     ]
    },
    {
     "data": {
      "application/vnd.jupyter.widget-view+json": {
       "model_id": "ca4306bff8fd47ad9e7d81c62a27ecf0",
       "version_major": 2,
       "version_minor": 0
      },
      "text/plain": [
       "Validation:   0%|          | 0/191 [00:00<?, ?it/s]"
      ]
     },
     "metadata": {},
     "output_type": "display_data"
    },
    {
     "name": "stdout",
     "output_type": "stream",
     "text": [
      "  Val Loss: 0.1945    Val AUC: 0.9842\n",
      "  Best model saved at epoch 2\n",
      "Epoch 3/20\n"
     ]
    },
    {
     "data": {
      "application/vnd.jupyter.widget-view+json": {
       "model_id": "06f0c8e2f0634a78853adf6afc2a83dc",
       "version_major": 2,
       "version_minor": 0
      },
      "text/plain": [
       "Training:   0%|          | 0/761 [00:00<?, ?it/s]"
      ]
     },
     "metadata": {},
     "output_type": "display_data"
    },
    {
     "name": "stdout",
     "output_type": "stream",
     "text": [
      "  Train Loss: 0.1411  Train AUC: 0.9865\n"
     ]
    },
    {
     "data": {
      "application/vnd.jupyter.widget-view+json": {
       "model_id": "b023f99b5d4c456d95c9d67b9074643b",
       "version_major": 2,
       "version_minor": 0
      },
      "text/plain": [
       "Validation:   0%|          | 0/191 [00:00<?, ?it/s]"
      ]
     },
     "metadata": {},
     "output_type": "display_data"
    },
    {
     "name": "stdout",
     "output_type": "stream",
     "text": [
      "  Val Loss: 0.1122    Val AUC: 0.9876\n",
      "  Best model saved at epoch 3\n",
      "Epoch 4/20\n"
     ]
    },
    {
     "data": {
      "application/vnd.jupyter.widget-view+json": {
       "model_id": "0b8f18e0a8d44e3c82b3921ed3537c05",
       "version_major": 2,
       "version_minor": 0
      },
      "text/plain": [
       "Training:   0%|          | 0/761 [00:00<?, ?it/s]"
      ]
     },
     "metadata": {},
     "output_type": "display_data"
    },
    {
     "name": "stdout",
     "output_type": "stream",
     "text": [
      "  Train Loss: 0.1273  Train AUC: 0.9885\n"
     ]
    },
    {
     "data": {
      "application/vnd.jupyter.widget-view+json": {
       "model_id": "14120037f6bf48f8960af4035f3a9908",
       "version_major": 2,
       "version_minor": 0
      },
      "text/plain": [
       "Validation:   0%|          | 0/191 [00:00<?, ?it/s]"
      ]
     },
     "metadata": {},
     "output_type": "display_data"
    },
    {
     "name": "stdout",
     "output_type": "stream",
     "text": [
      "  Val Loss: 0.1098    Val AUC: 0.9865\n",
      "Epoch 5/20\n"
     ]
    },
    {
     "data": {
      "application/vnd.jupyter.widget-view+json": {
       "model_id": "950374a52e4a44fe8d383d000631e417",
       "version_major": 2,
       "version_minor": 0
      },
      "text/plain": [
       "Training:   0%|          | 0/761 [00:00<?, ?it/s]"
      ]
     },
     "metadata": {},
     "output_type": "display_data"
    },
    {
     "name": "stdout",
     "output_type": "stream",
     "text": [
      "  Train Loss: 0.1129  Train AUC: 0.9911\n"
     ]
    },
    {
     "data": {
      "application/vnd.jupyter.widget-view+json": {
       "model_id": "f46deb99b77648be9d4b28335a5e03e9",
       "version_major": 2,
       "version_minor": 0
      },
      "text/plain": [
       "Validation:   0%|          | 0/191 [00:00<?, ?it/s]"
      ]
     },
     "metadata": {},
     "output_type": "display_data"
    },
    {
     "name": "stdout",
     "output_type": "stream",
     "text": [
      "  Val Loss: 0.1519    Val AUC: 0.9861\n",
      "Epoch 6/20\n"
     ]
    },
    {
     "data": {
      "application/vnd.jupyter.widget-view+json": {
       "model_id": "ecf2124a09174454bfb54d292cadc04f",
       "version_major": 2,
       "version_minor": 0
      },
      "text/plain": [
       "Training:   0%|          | 0/761 [00:00<?, ?it/s]"
      ]
     },
     "metadata": {},
     "output_type": "display_data"
    },
    {
     "name": "stdout",
     "output_type": "stream",
     "text": [
      "  Train Loss: 0.0952  Train AUC: 0.9936\n"
     ]
    },
    {
     "data": {
      "application/vnd.jupyter.widget-view+json": {
       "model_id": "6bf6cc89936f4011b7dd1a5bdc736f7d",
       "version_major": 2,
       "version_minor": 0
      },
      "text/plain": [
       "Validation:   0%|          | 0/191 [00:00<?, ?it/s]"
      ]
     },
     "metadata": {},
     "output_type": "display_data"
    },
    {
     "name": "stdout",
     "output_type": "stream",
     "text": [
      "  Val Loss: 0.1179    Val AUC: 0.9882\n",
      "  Best model saved at epoch 6\n",
      "Epoch 7/20\n"
     ]
    },
    {
     "data": {
      "application/vnd.jupyter.widget-view+json": {
       "model_id": "d3a2252f50f94145a473b9cd52a22c8e",
       "version_major": 2,
       "version_minor": 0
      },
      "text/plain": [
       "Training:   0%|          | 0/761 [00:00<?, ?it/s]"
      ]
     },
     "metadata": {},
     "output_type": "display_data"
    },
    {
     "name": "stdout",
     "output_type": "stream",
     "text": [
      "  Train Loss: 0.0888  Train AUC: 0.9938\n"
     ]
    },
    {
     "data": {
      "application/vnd.jupyter.widget-view+json": {
       "model_id": "8211216156a54782895ca406cbbd4d8f",
       "version_major": 2,
       "version_minor": 0
      },
      "text/plain": [
       "Validation:   0%|          | 0/191 [00:00<?, ?it/s]"
      ]
     },
     "metadata": {},
     "output_type": "display_data"
    },
    {
     "name": "stdout",
     "output_type": "stream",
     "text": [
      "  Val Loss: 0.0922    Val AUC: 0.9895\n",
      "  Best model saved at epoch 7\n",
      "Epoch 8/20\n"
     ]
    },
    {
     "data": {
      "application/vnd.jupyter.widget-view+json": {
       "model_id": "ac5acee96c9f40cead6da96b12c40e22",
       "version_major": 2,
       "version_minor": 0
      },
      "text/plain": [
       "Training:   0%|          | 0/761 [00:00<?, ?it/s]"
      ]
     },
     "metadata": {},
     "output_type": "display_data"
    },
    {
     "name": "stdout",
     "output_type": "stream",
     "text": [
      "  Train Loss: 0.0840  Train AUC: 0.9946\n"
     ]
    },
    {
     "data": {
      "application/vnd.jupyter.widget-view+json": {
       "model_id": "c6631088800e46c8801262e551c46314",
       "version_major": 2,
       "version_minor": 0
      },
      "text/plain": [
       "Validation:   0%|          | 0/191 [00:00<?, ?it/s]"
      ]
     },
     "metadata": {},
     "output_type": "display_data"
    },
    {
     "name": "stdout",
     "output_type": "stream",
     "text": [
      "  Val Loss: 0.0718    Val AUC: 0.9900\n",
      "  Best model saved at epoch 8\n",
      "Epoch 9/20\n"
     ]
    },
    {
     "data": {
      "application/vnd.jupyter.widget-view+json": {
       "model_id": "9fb6698dce8245a4801b726ef8801fa4",
       "version_major": 2,
       "version_minor": 0
      },
      "text/plain": [
       "Training:   0%|          | 0/761 [00:00<?, ?it/s]"
      ]
     },
     "metadata": {},
     "output_type": "display_data"
    },
    {
     "name": "stdout",
     "output_type": "stream",
     "text": [
      "  Train Loss: 0.0748  Train AUC: 0.9955\n"
     ]
    },
    {
     "data": {
      "application/vnd.jupyter.widget-view+json": {
       "model_id": "f00669700389435aa51fdf7d32a49518",
       "version_major": 2,
       "version_minor": 0
      },
      "text/plain": [
       "Validation:   0%|          | 0/191 [00:00<?, ?it/s]"
      ]
     },
     "metadata": {},
     "output_type": "display_data"
    },
    {
     "name": "stdout",
     "output_type": "stream",
     "text": [
      "  Val Loss: 0.0747    Val AUC: 0.9863\n",
      "Epoch 10/20\n"
     ]
    },
    {
     "data": {
      "application/vnd.jupyter.widget-view+json": {
       "model_id": "336a5469e72a4fffb33fba942a2f9f6f",
       "version_major": 2,
       "version_minor": 0
      },
      "text/plain": [
       "Training:   0%|          | 0/761 [00:00<?, ?it/s]"
      ]
     },
     "metadata": {},
     "output_type": "display_data"
    },
    {
     "name": "stdout",
     "output_type": "stream",
     "text": [
      "  Train Loss: 0.0741  Train AUC: 0.9957\n"
     ]
    },
    {
     "data": {
      "application/vnd.jupyter.widget-view+json": {
       "model_id": "ad5f0c74dc5e4e66bf4c3d4c1a13bfab",
       "version_major": 2,
       "version_minor": 0
      },
      "text/plain": [
       "Validation:   0%|          | 0/191 [00:00<?, ?it/s]"
      ]
     },
     "metadata": {},
     "output_type": "display_data"
    },
    {
     "name": "stdout",
     "output_type": "stream",
     "text": [
      "  Val Loss: 0.1065    Val AUC: 0.9889\n",
      "Epoch 11/20\n"
     ]
    },
    {
     "data": {
      "application/vnd.jupyter.widget-view+json": {
       "model_id": "787ddadf67124cffbdeafcc8fbaa28ec",
       "version_major": 2,
       "version_minor": 0
      },
      "text/plain": [
       "Training:   0%|          | 0/761 [00:00<?, ?it/s]"
      ]
     },
     "metadata": {},
     "output_type": "display_data"
    },
    {
     "name": "stdout",
     "output_type": "stream",
     "text": [
      "  Train Loss: 0.0604  Train AUC: 0.9968\n"
     ]
    },
    {
     "data": {
      "application/vnd.jupyter.widget-view+json": {
       "model_id": "9b2d94d53c004ba4990301fee31b97e1",
       "version_major": 2,
       "version_minor": 0
      },
      "text/plain": [
       "Validation:   0%|          | 0/191 [00:00<?, ?it/s]"
      ]
     },
     "metadata": {},
     "output_type": "display_data"
    },
    {
     "name": "stdout",
     "output_type": "stream",
     "text": [
      "  Val Loss: 0.0639    Val AUC: 0.9916\n",
      "  Best model saved at epoch 11\n",
      "Epoch 12/20\n"
     ]
    },
    {
     "data": {
      "application/vnd.jupyter.widget-view+json": {
       "model_id": "b07b3f89229f45658baa1049bede2278",
       "version_major": 2,
       "version_minor": 0
      },
      "text/plain": [
       "Training:   0%|          | 0/761 [00:00<?, ?it/s]"
      ]
     },
     "metadata": {},
     "output_type": "display_data"
    },
    {
     "name": "stdout",
     "output_type": "stream",
     "text": [
      "  Train Loss: 0.0580  Train AUC: 0.9968\n"
     ]
    },
    {
     "data": {
      "application/vnd.jupyter.widget-view+json": {
       "model_id": "98422134358d4511849b4680419ef8de",
       "version_major": 2,
       "version_minor": 0
      },
      "text/plain": [
       "Validation:   0%|          | 0/191 [00:00<?, ?it/s]"
      ]
     },
     "metadata": {},
     "output_type": "display_data"
    },
    {
     "name": "stdout",
     "output_type": "stream",
     "text": [
      "  Val Loss: 0.1110    Val AUC: 0.9905\n",
      "Epoch 13/20\n"
     ]
    },
    {
     "data": {
      "application/vnd.jupyter.widget-view+json": {
       "model_id": "46ae7234cec2488289f5914dca9d85e9",
       "version_major": 2,
       "version_minor": 0
      },
      "text/plain": [
       "Training:   0%|          | 0/761 [00:00<?, ?it/s]"
      ]
     },
     "metadata": {},
     "output_type": "display_data"
    },
    {
     "name": "stdout",
     "output_type": "stream",
     "text": [
      "  Train Loss: 0.0584  Train AUC: 0.9971\n"
     ]
    },
    {
     "data": {
      "application/vnd.jupyter.widget-view+json": {
       "model_id": "68bcd7015d904537b6f255a5dccb3d10",
       "version_major": 2,
       "version_minor": 0
      },
      "text/plain": [
       "Validation:   0%|          | 0/191 [00:00<?, ?it/s]"
      ]
     },
     "metadata": {},
     "output_type": "display_data"
    },
    {
     "name": "stdout",
     "output_type": "stream",
     "text": [
      "  Val Loss: 0.0754    Val AUC: 0.9899\n",
      "Epoch 14/20\n"
     ]
    },
    {
     "data": {
      "application/vnd.jupyter.widget-view+json": {
       "model_id": "e46b780590de45e693f501e43aa88361",
       "version_major": 2,
       "version_minor": 0
      },
      "text/plain": [
       "Training:   0%|          | 0/761 [00:00<?, ?it/s]"
      ]
     },
     "metadata": {},
     "output_type": "display_data"
    },
    {
     "name": "stdout",
     "output_type": "stream",
     "text": [
      "  Train Loss: 0.0531  Train AUC: 0.9971\n"
     ]
    },
    {
     "data": {
      "application/vnd.jupyter.widget-view+json": {
       "model_id": "1eaa5c9c8d824494aafb909667eb6fb1",
       "version_major": 2,
       "version_minor": 0
      },
      "text/plain": [
       "Validation:   0%|          | 0/191 [00:00<?, ?it/s]"
      ]
     },
     "metadata": {},
     "output_type": "display_data"
    },
    {
     "name": "stdout",
     "output_type": "stream",
     "text": [
      "  Val Loss: 0.0970    Val AUC: 0.9904\n",
      "Epoch 15/20\n"
     ]
    },
    {
     "data": {
      "application/vnd.jupyter.widget-view+json": {
       "model_id": "6b04c9200cf14703882b7cae8bf56a12",
       "version_major": 2,
       "version_minor": 0
      },
      "text/plain": [
       "Training:   0%|          | 0/761 [00:00<?, ?it/s]"
      ]
     },
     "metadata": {},
     "output_type": "display_data"
    },
    {
     "name": "stdout",
     "output_type": "stream",
     "text": [
      "  Train Loss: 0.0497  Train AUC: 0.9977\n"
     ]
    },
    {
     "data": {
      "application/vnd.jupyter.widget-view+json": {
       "model_id": "afc6c0eaea5c4dbd800d824d8204586c",
       "version_major": 2,
       "version_minor": 0
      },
      "text/plain": [
       "Validation:   0%|          | 0/191 [00:00<?, ?it/s]"
      ]
     },
     "metadata": {},
     "output_type": "display_data"
    },
    {
     "name": "stdout",
     "output_type": "stream",
     "text": [
      "  Val Loss: 0.0877    Val AUC: 0.9896\n",
      "Epoch 16/20\n"
     ]
    },
    {
     "data": {
      "application/vnd.jupyter.widget-view+json": {
       "model_id": "b1cd8a79ea4e443380f56df4ed2df7bb",
       "version_major": 2,
       "version_minor": 0
      },
      "text/plain": [
       "Training:   0%|          | 0/761 [00:00<?, ?it/s]"
      ]
     },
     "metadata": {},
     "output_type": "display_data"
    },
    {
     "name": "stdout",
     "output_type": "stream",
     "text": [
      "  Train Loss: 0.0450  Train AUC: 0.9979\n"
     ]
    },
    {
     "data": {
      "application/vnd.jupyter.widget-view+json": {
       "model_id": "6de62f8a7b244e2491fa896bb10c38fe",
       "version_major": 2,
       "version_minor": 0
      },
      "text/plain": [
       "Validation:   0%|          | 0/191 [00:00<?, ?it/s]"
      ]
     },
     "metadata": {},
     "output_type": "display_data"
    },
    {
     "name": "stdout",
     "output_type": "stream",
     "text": [
      "  Val Loss: 0.0999    Val AUC: 0.9889\n",
      "Epoch 17/20\n"
     ]
    },
    {
     "data": {
      "application/vnd.jupyter.widget-view+json": {
       "model_id": "a7ca3bcaaaac43cf93dfd584ad6a6a0a",
       "version_major": 2,
       "version_minor": 0
      },
      "text/plain": [
       "Training:   0%|          | 0/761 [00:00<?, ?it/s]"
      ]
     },
     "metadata": {},
     "output_type": "display_data"
    },
    {
     "name": "stdout",
     "output_type": "stream",
     "text": [
      "  Train Loss: 0.0501  Train AUC: 0.9976\n"
     ]
    },
    {
     "data": {
      "application/vnd.jupyter.widget-view+json": {
       "model_id": "93085894c1354b19ba4fd67d24449116",
       "version_major": 2,
       "version_minor": 0
      },
      "text/plain": [
       "Validation:   0%|          | 0/191 [00:00<?, ?it/s]"
      ]
     },
     "metadata": {},
     "output_type": "display_data"
    },
    {
     "name": "stdout",
     "output_type": "stream",
     "text": [
      "  Val Loss: 0.1005    Val AUC: 0.9918\n",
      "  Best model saved at epoch 17\n",
      "Epoch 18/20\n"
     ]
    },
    {
     "data": {
      "application/vnd.jupyter.widget-view+json": {
       "model_id": "ad8741b94ef34bdda0b9af2d464492c0",
       "version_major": 2,
       "version_minor": 0
      },
      "text/plain": [
       "Training:   0%|          | 0/761 [00:00<?, ?it/s]"
      ]
     },
     "metadata": {},
     "output_type": "display_data"
    },
    {
     "name": "stdout",
     "output_type": "stream",
     "text": [
      "  Train Loss: 0.0425  Train AUC: 0.9982\n"
     ]
    },
    {
     "data": {
      "application/vnd.jupyter.widget-view+json": {
       "model_id": "d707bcb62367453887ec5953742e8ed8",
       "version_major": 2,
       "version_minor": 0
      },
      "text/plain": [
       "Validation:   0%|          | 0/191 [00:00<?, ?it/s]"
      ]
     },
     "metadata": {},
     "output_type": "display_data"
    },
    {
     "name": "stdout",
     "output_type": "stream",
     "text": [
      "  Val Loss: 0.0797    Val AUC: 0.9859\n",
      "Epoch 19/20\n"
     ]
    },
    {
     "data": {
      "application/vnd.jupyter.widget-view+json": {
       "model_id": "1a1970a5253a43928e439f2ed1d3a529",
       "version_major": 2,
       "version_minor": 0
      },
      "text/plain": [
       "Training:   0%|          | 0/761 [00:00<?, ?it/s]"
      ]
     },
     "metadata": {},
     "output_type": "display_data"
    },
    {
     "name": "stdout",
     "output_type": "stream",
     "text": [
      "  Train Loss: 0.0410  Train AUC: 0.9981\n"
     ]
    },
    {
     "data": {
      "application/vnd.jupyter.widget-view+json": {
       "model_id": "eb55ee52472241a2a9459bd4998b2afc",
       "version_major": 2,
       "version_minor": 0
      },
      "text/plain": [
       "Validation:   0%|          | 0/191 [00:00<?, ?it/s]"
      ]
     },
     "metadata": {},
     "output_type": "display_data"
    },
    {
     "name": "stdout",
     "output_type": "stream",
     "text": [
      "  Val Loss: 0.0673    Val AUC: 0.9900\n",
      "Epoch 20/20\n"
     ]
    },
    {
     "data": {
      "application/vnd.jupyter.widget-view+json": {
       "model_id": "417c294530f94c52b1dc80b780718d42",
       "version_major": 2,
       "version_minor": 0
      },
      "text/plain": [
       "Training:   0%|          | 0/761 [00:00<?, ?it/s]"
      ]
     },
     "metadata": {},
     "output_type": "display_data"
    },
    {
     "name": "stdout",
     "output_type": "stream",
     "text": [
      "  Train Loss: 0.0389  Train AUC: 0.9984\n"
     ]
    },
    {
     "data": {
      "application/vnd.jupyter.widget-view+json": {
       "model_id": "6e1e897aea7f4eecbc01f691bd0db746",
       "version_major": 2,
       "version_minor": 0
      },
      "text/plain": [
       "Validation:   0%|          | 0/191 [00:00<?, ?it/s]"
      ]
     },
     "metadata": {},
     "output_type": "display_data"
    },
    {
     "name": "stdout",
     "output_type": "stream",
     "text": [
      "  Val Loss: 0.0702    Val AUC: 0.9900\n"
     ]
    }
   ],
   "source": [
    "# Cell 6: Model, Loss, Optimizer, Training Loop\n",
    "import torch\n",
    "import torch.nn as nn\n",
    "import torch.optim as optim\n",
    "from torchvision import models\n",
    "from tqdm.notebook import tqdm  # Corrected import\n",
    "from sklearn.metrics import roc_auc_score\n",
    "\n",
    "# Set correct absolute path for data directory\n",
    "DATA_DIR = \"/home/w2sg-arnav/gravitational_lens/data/Specific_test_2\"\n",
    "\n",
    "# Constants (make sure these are defined in your notebook)\n",
    "BATCH_SIZE = 32\n",
    "LEARNING_RATE = 0.001  # Using a slightly larger learning rate, typical for ResNet\n",
    "NUM_EPOCHS = 20  # Keeping it at 20 for now, you can increase later\n",
    "DEVICE = torch.device(\"cuda\" if torch.cuda.is_available() else \"cpu\")\n",
    "MODEL_SAVE_PATH = \"best_lens_classifier.pth\"  # corrected save path\n",
    "\n",
    "\n",
    "# --- Data Loaders ---\n",
    "# This MUST be before train_model()\n",
    "train_loader, val_loader, test_loader = create_dataloaders(\n",
    "    DATA_DIR, train_transforms, val_transforms, test_transforms, BATCH_SIZE\n",
    ")\n",
    "\n",
    "# --- Model Definition (Choose one: Simple CNN or ResNet18) ---\n",
    "\n",
    "# Option 1: Simple CNN (for debugging/baseline) - NOW COMMENTED OUT\n",
    "# class SimpleCNN(nn.Module):\n",
    "#     def __init__(self):\n",
    "#         super(SimpleCNN, self).__init__()\n",
    "#         self.model = nn.Sequential(\n",
    "#             nn.Conv2d(3, 16, kernel_size=3, padding=1),\n",
    "#             nn.ReLU(),\n",
    "#             nn.MaxPool2d(2, 2),\n",
    "#             nn.Conv2d(16, 32, kernel_size=3, padding=1),\n",
    "#             nn.ReLU(),\n",
    "#             nn.MaxPool2d(2, 2),\n",
    "#             nn.Flatten(),\n",
    "#             nn.Linear(32 * 56 * 56, 128),  # 224 / 2 / 2 = 56\n",
    "#             nn.ReLU(),\n",
    "#             nn.Dropout(0.5),\n",
    "#             nn.Linear(128, 1)\n",
    "#         )\n",
    "\n",
    "#     def forward(self, x):\n",
    "#         return self.model(x)\n",
    "\n",
    "# Option 2: ResNet18 (pre-trained) - Now UNCOMMENTED and used\n",
    "class ResNet18(nn.Module):  # Corrected indentation\n",
    "    def __init__(self):   # Corrected indentation\n",
    "        super(ResNet18, self).__init__()  # Corrected indentation\n",
    "        self.model = models.resnet18(pretrained=True)   # Corrected indentation\n",
    "        num_ftrs = self.model.fc.in_features  # Corrected indentation\n",
    "        self.model.fc = nn.Linear(num_ftrs, 1)  # Binary classification  # Corrected indentation\n",
    "\n",
    "    def forward(self, x):  # Corrected indentation\n",
    "        return self.model(x)   # Corrected indentation\n",
    "\n",
    "\n",
    "# --- Choose your model here ---\n",
    "model = ResNet18().to(DEVICE)  # Now using ResNet18\n",
    "\n",
    "\n",
    "# --- Loss Function and Optimizer ---\n",
    "criterion = nn.BCEWithLogitsLoss()\n",
    "optimizer = optim.Adam(model.parameters(), lr=LEARNING_RATE)\n",
    "scheduler = torch.optim.lr_scheduler.ReduceLROnPlateau(optimizer, 'min')\n",
    "\n",
    "# --- Training Loop ---\n",
    "def train_model(model, criterion, optimizer, scheduler, train_loader, val_loader, num_epochs, device):\n",
    "    \"\"\"Trains the model and saves the best weights based on validation AUC.\"\"\"\n",
    "    best_val_auc = 0.0\n",
    "    train_losses = []\n",
    "    val_losses = []\n",
    "    train_auc_scores = []\n",
    "    val_auc_scores = []\n",
    "\n",
    "    for epoch in range(num_epochs):\n",
    "        print(f'Epoch {epoch+1}/{num_epochs}')\n",
    "\n",
    "        # --- Training Phase ---\n",
    "        model.train()\n",
    "        running_loss = 0.0\n",
    "        all_labels = []\n",
    "        all_preds = []\n",
    "\n",
    "        for inputs, labels in tqdm(train_loader, desc=\"Training\", leave=False):\n",
    "            inputs = inputs.to(device)\n",
    "            labels = labels.to(device).float()\n",
    "            labels = labels.unsqueeze(1)\n",
    "\n",
    "            optimizer.zero_grad()\n",
    "            outputs = model(inputs)\n",
    "            loss = criterion(outputs, labels)\n",
    "            loss.backward()\n",
    "            optimizer.step()\n",
    "\n",
    "            running_loss += loss.item() * inputs.size(0)\n",
    "            all_labels.extend(labels.cpu().numpy())\n",
    "            preds = torch.sigmoid(outputs).detach().cpu().numpy()  # Sigmoid for AUC\n",
    "            all_preds.extend(preds)\n",
    "\n",
    "        epoch_loss = running_loss / len(train_loader.dataset)\n",
    "        train_auc = roc_auc_score(all_labels, all_preds)\n",
    "        print(f'  Train Loss: {epoch_loss:.4f}  Train AUC: {train_auc:.4f}')\n",
    "        train_losses.append(epoch_loss)\n",
    "        train_auc_scores.append(train_auc)\n",
    "\n",
    "        # --- Validation Phase ---\n",
    "        model.eval()\n",
    "        running_loss = 0.0\n",
    "        all_labels = []\n",
    "        all_preds = []\n",
    "        with torch.no_grad():\n",
    "            for inputs, labels in tqdm(val_loader, desc=\"Validation\"):\n",
    "                inputs = inputs.to(device)\n",
    "                labels = labels.to(device).float()\n",
    "                labels = labels.unsqueeze(1)\n",
    "\n",
    "                outputs = model(inputs)\n",
    "                loss = criterion(outputs, labels)\n",
    "\n",
    "                running_loss += loss.item() * inputs.size(0)\n",
    "                all_labels.extend(labels.cpu().numpy())\n",
    "                preds = torch.sigmoid(outputs).detach().cpu().numpy()  # Sigmoid for AUC\n",
    "                all_preds.extend(preds)\n",
    "\n",
    "        epoch_loss = running_loss / len(val_loader.dataset)\n",
    "        val_auc = roc_auc_score(all_labels, all_preds)\n",
    "        print(f'  Val Loss: {epoch_loss:.4f}    Val AUC: {val_auc:.4f}')\n",
    "        val_losses.append(epoch_loss)\n",
    "        val_auc_scores.append(val_auc)\n",
    "\n",
    "        scheduler.step(epoch_loss)\n",
    "\n",
    "        # Save best model\n",
    "        if val_auc > best_val_auc:\n",
    "            best_val_auc = val_auc\n",
    "            torch.save(model.state_dict(), MODEL_SAVE_PATH)\n",
    "            print(f'  Best model saved at epoch {epoch+1}')\n",
    "\n",
    "    return train_losses, val_losses, train_auc_scores, val_auc_scores\n",
    "\n",
    "# --- Train the Model ---\n",
    "# This is now in the CORRECT place, AFTER create_dataloaders\n",
    "train_losses, val_losses, train_auc_scores, val_auc_scores = train_model(\n",
    "    model, criterion, optimizer, scheduler, train_loader, val_loader, NUM_EPOCHS, DEVICE\n",
    ")"
   ]
  },
  {
   "cell_type": "code",
   "execution_count": 10,
   "metadata": {},
   "outputs": [],
   "source": [
    "def plot_training_history(train_losses, val_losses, train_auc, val_auc):\n",
    "    \"\"\"Plots the training and validation loss and AUC over epochs.\"\"\"\n",
    "    epochs = range(1, len(train_losses) + 1)\n",
    "\n",
    "    plt.figure(figsize=(12, 5))\n",
    "\n",
    "    plt.subplot(1, 2, 1)\n",
    "    plt.plot(epochs, train_losses, 'b-', label='Training Loss')\n",
    "    plt.plot(epochs, val_losses, 'r-', label='Validation Loss')\n",
    "    plt.title('Training and Validation Loss')\n",
    "    plt.xlabel('Epochs')\n",
    "    plt.ylabel('Loss')\n",
    "    plt.legend()\n",
    "\n",
    "    plt.subplot(1, 2, 2)\n",
    "    plt.plot(epochs, train_auc, 'b-', label='Training AUC')\n",
    "    plt.plot(epochs, val_auc, 'r-', label='Validation AUC')\n",
    "    plt.title('Training and Validation AUC')\n",
    "    plt.xlabel('Epochs')\n",
    "    plt.ylabel('AUC')\n",
    "    plt.legend()\n",
    "\n",
    "    plt.tight_layout()\n",
    "    plt.show()"
   ]
  },
  {
   "cell_type": "code",
   "execution_count": 11,
   "metadata": {},
   "outputs": [],
   "source": [
    "def plot_roc_curve(labels, probabilities, num_classes):\n",
    "    \"\"\"Plots the ROC curve.\"\"\"\n",
    "    if num_classes > 1:  # Multiclass (not used in this binary case)\n",
    "        fpr = dict()\n",
    "        tpr = dict()\n",
    "        roc_auc = dict()\n",
    "        for i in range(num_classes):\n",
    "            class_labels = [1 if label == i else 0 for label in labels]\n",
    "            fpr[i], tpr[i], _ = roc_curve(class_labels, [prob[i] for prob in probabilities])\n",
    "            roc_auc[i] = auc(fpr[i], tpr[i])\n",
    "        plt.figure(figsize=(8, 6))\n",
    "        for i in range(num_classes):\n",
    "            plt.plot(fpr[i], tpr[i], label=f'Class {i} (AUC = {roc_auc[i]:.2f})')\n",
    "    else:  # Binary case\n",
    "        fpr, tpr, _ = roc_curve(labels, probabilities)\n",
    "        roc_auc = auc(fpr, tpr)\n",
    "        plt.figure(figsize=(8, 6))\n",
    "        plt.plot(fpr, tpr, label=f'ROC curve (AUC = {roc_auc:.2f})')\n",
    "\n",
    "    plt.plot([0, 1], [0, 1], 'k--')\n",
    "    plt.xlim([0.0, 1.0])\n",
    "    plt.ylim([0.0, 1.05])\n",
    "    plt.xlabel('False Positive Rate')\n",
    "    plt.ylabel('True Positive Rate')\n",
    "    plt.title('Receiver Operating Characteristic (ROC) Curve')\n",
    "    plt.legend(loc=\"lower right\")\n",
    "    plt.show()\n",
    "\n",
    "\n",
    "def plot_confusion_matrix(labels, probabilities, classes):\n",
    "    \"\"\"Plots the confusion matrix.\"\"\"\n",
    "    preds = np.round(probabilities).astype(int)  # Round for binary classification\n",
    "    cm = confusion_matrix(labels, preds)\n",
    "    plt.figure(figsize=(8, 6))\n",
    "    sns.heatmap(cm, annot=True, fmt=\"d\", cmap=\"Blues\", xticklabels=classes, yticklabels=classes)\n",
    "    plt.title(\"Confusion Matrix\")\n",
    "    plt.xlabel(\"Predicted Label\")\n",
    "    plt.ylabel(\"True Label\")\n",
    "    plt.show()"
   ]
  },
  {
   "cell_type": "code",
   "execution_count": 12,
   "metadata": {},
   "outputs": [
    {
     "data": {
      "image/png": "[encoded data removed]",
      "text/plain": [
       "<Figure size 1200x500 with 2 Axes>"
      ]
     },
     "metadata": {},
     "output_type": "display_data"
    }
   ],
   "source": [
    "plot_training_history(train_losses, val_losses, train_auc_scores, val_auc_scores)"
   ]
  },
  {
   "cell_type": "code",
   "execution_count": 13,
   "metadata": {},
   "outputs": [
    {
     "data": {
      "application/vnd.jupyter.widget-view+json": {
       "model_id": "2a76b1f6f0d9424ebb2830c68645097b",
       "version_major": 2,
       "version_minor": 0
      },
      "text/plain": [
       "Evaluating:   0%|          | 0/615 [00:00<?, ?it/s]"
      ]
     },
     "metadata": {},
     "output_type": "display_data"
    },
    {
     "name": "stdout",
     "output_type": "stream",
     "text": [
      "Test AUC: 0.9837\n"
     ]
    },
    {
     "data": {
      "image/png": "[encoded data removed]",
      "text/plain": [
       "<Figure size 800x600 with 1 Axes>"
      ]
     },
     "metadata": {},
     "output_type": "display_data"
    },
    {
     "data": {
      "image/png": "[encoded data removed]",
      "text/plain": [
       "<Figure size 800x600 with 2 Axes>"
      ]
     },
     "metadata": {},
     "output_type": "display_data"
    }
   ],
   "source": [
    "model.load_state_dict(torch.load(MODEL_SAVE_PATH))\n",
    "model.eval()\n",
    "\n",
    "def evaluate_model(model, data_loader, device):\n",
    "    \"\"\"Evaluates the model on the given data loader.\"\"\"\n",
    "    all_labels = []\n",
    "    all_probs = []\n",
    "\n",
    "    with torch.no_grad():\n",
    "        for inputs, labels in tqdm(data_loader, desc=\"Evaluating\"):\n",
    "            inputs = inputs.to(device)\n",
    "            labels = labels.to(device).float()\n",
    "            labels = labels.unsqueeze(1)\n",
    "\n",
    "            outputs = model(inputs)\n",
    "            probs = torch.sigmoid(outputs).cpu().numpy()  # Sigmoid for probabilities\n",
    "\n",
    "            all_labels.extend(labels.cpu().numpy())\n",
    "            all_probs.extend(probs)\n",
    "\n",
    "    return all_labels, all_probs\n",
    "\n",
    "test_labels, test_probs = evaluate_model(model, test_loader, DEVICE)\n",
    "\n",
    "if len(test_labels) > 0:\n",
    "    test_auc = roc_auc_score(test_labels, test_probs)\n",
    "    print(f\"Test AUC: {test_auc:.4f}\")\n",
    "\n",
    "    plot_roc_curve(test_labels, test_probs, num_classes=1)\n",
    "    plot_confusion_matrix(\n",
    "        test_labels, test_probs, classes=[\"nonlenses\", \"lenses\"]\n",
    "    )\n",
    "else:\n",
    "    print(\"Test AUC: N/A (empty test set)\")"
   ]
  }
 ],
 "metadata": {
  "kernelspec": {
   "display_name": "usr",
   "language": "python",
   "name": "python3"
  },
  "language_info": {
   "codemirror_mode": {
    "name": "ipython",
    "version": 3
   },
   "file_extension": ".py",
   "mimetype": "text/x-python",
   "name": "python",
   "nbconvert_exporter": "python",
   "pygments_lexer": "ipython3",
   "version": "3.12.3"
  }
 },
 "nbformat": 4,
 "nbformat_minor": 2
}
